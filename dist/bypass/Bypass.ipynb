{
 "cells": [
  {
   "cell_type": "markdown",
   "metadata": {},
   "source": [
    "# PYNQ-Z2 Bypass Effect\n",
    "\n",
    "入力した音をそのまま出力するだけのサンプルです。ただし受信した音声を読み取って出力レジスタに書き込む処理はVivado HLSで作成したIPで自動実行されています。\n",
    "\n",
    "## Project Repo\n",
    "\n",
    "https://github.com/kamiyaowl/pynq_dsp_hw\n",
    "\n",
    "## Vivado HLS IP Repo\n",
    "\n",
    "https://github.com/kamiyaowl/pynq_dsp_hls"
   ]
  },
  {
   "cell_type": "code",
   "execution_count": 1,
   "metadata": {},
   "outputs": [
    {
     "data": {
      "application/javascript": [
       "\n",
       "require(['notebook/js/codecell'], function(codecell) {\n",
       "  codecell.CodeCell.options_default.highlight_modes[\n",
       "      'magic_text/x-csrc'] = {'reg':[/^%%microblaze/]};\n",
       "  Jupyter.notebook.events.one('kernel_ready.Kernel', function(){\n",
       "      Jupyter.notebook.get_cells().map(function(cell){\n",
       "          if (cell.cell_type == 'code'){ cell.auto_highlight(); } }) ;\n",
       "  });\n",
       "});\n"
      ]
     },
     "metadata": {},
     "output_type": "display_data"
    }
   ],
   "source": [
    "from pynq.overlays.base import BaseOverlay\n",
    "base = BaseOverlay(bitfile='/home/xilinx/dist/base_wrapper.bit', dtbo='/home/xilinx/dist/base_wrapper.dtbo', download=True)\n",
    "\n",
    "# print(base.device.ip_dict['audio_codec_ctrl_0'])\n",
    "# print(base.device.ip_dict['bypass_0'])"
   ]
  },
  {
   "cell_type": "code",
   "execution_count": 4,
   "metadata": {},
   "outputs": [
    {
     "name": "stdout",
     "output_type": "stream",
     "text": [
      "RegisterMap {\n",
      "  CTRL = Register(AP_START=1, AP_DONE=1, AP_IDLE=0, AP_READY=0, RESERVED_1=0, AUTO_RESTART=1, RESERVED_2=0),\n",
      "  GIER = Register(Enable=0, RESERVED=0),\n",
      "  IP_IER = Register(CHAN0_INT_EN=0, CHAN1_INT_EN=0, RESERVED=0),\n",
      "  IP_ISR = Register(CHAN0_INT_ST=0, CHAN1_INT_ST=0, RESERVED=0),\n",
      "  basePhysAddr_V = Register(basePhysAddr_V=1136656384)\n",
      "}\n"
     ]
    }
   ],
   "source": [
    "# Line入力を有効化\n",
    "pAudio = base.audio\n",
    "pAudio.select_line_in() # line入力を使う\n",
    "\n",
    "# 自作HLSライブラリを設定する\n",
    "bypass = base.bypass_0\n",
    "offset_basePhyisAddr = bypass.register_map.basePhysAddr_V.address\n",
    "offset_ctrl          = bypass.register_map.CTRL.address\n",
    "\n",
    "# Bypassの読み書きのベースアドレスを指定\n",
    "bypass.write(offset=offset_basePhyisAddr, value=pAudio.mmio.base_addr)\n",
    "# HLSのモジュールを開始させる\n",
    "bypass.write(offset=offset_ctrl, value=0x81) # AUTO_RESTART, AP_START\n",
    "# 設定内容を表示\n",
    "print(bypass.register_map)"
   ]
  },
  {
   "cell_type": "code",
   "execution_count": 5,
   "metadata": {},
   "outputs": [],
   "source": [
    "# Auto Restartを切ってみる\n",
    "bypass.write(offset=offset_ctrl, value=0x00) # AUTO_RESTART, AP_START"
   ]
  },
  {
   "cell_type": "code",
   "execution_count": null,
   "metadata": {},
   "outputs": [],
   "source": [
    "# CPUでやる場合(止める際はInterruptしてください)\n",
    "\n",
    "# from audio_adau1761.h\n",
    "I2S_DATA_RX_L_REG = 0x00\n",
    "I2S_DATA_RX_R_REG = 0x04\n",
    "I2S_DATA_TX_L_REG = 0x08\n",
    "I2S_DATA_TX_R_REG = 0x0C\n",
    "I2S_STATUS_REG    = 0x10\n",
    "\n",
    "pAudio = base.audio\n",
    "pAudio.select_line_in() # line入力を使う\n",
    "\n",
    "while True:\n",
    "    # 音声の取得\n",
    "    l_src = pAudio.mmio.read_reg(offset=I2S_DATA_RX_L_REG)\n",
    "    r_src = pAudio.mmio.read_reg(offset=I2S_DATA_RX_R_REG)\n",
    "    # 音声の書き込み\n",
    "    pAudio.mmio.write_reg(data=l_src, offset=I2S_DATA_TX_L_REG)\n",
    "    pAudio.mmio.write_reg(data=r_src, offset=I2S_DATA_TX_R_REG)"
   ]
  }
 ],
 "metadata": {
  "kernelspec": {
   "display_name": "Python 3",
   "language": "python",
   "name": "python3"
  },
  "language_info": {
   "codemirror_mode": {
    "name": "ipython",
    "version": 3
   },
   "file_extension": ".py",
   "mimetype": "text/x-python",
   "name": "python",
   "nbconvert_exporter": "python",
   "pygments_lexer": "ipython3",
   "version": "3.6.5"
  }
 },
 "nbformat": 4,
 "nbformat_minor": 1
}
